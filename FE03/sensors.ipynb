{
 "metadata": {
  "language_info": {
   "codemirror_mode": {
    "name": "ipython",
    "version": 3
   },
   "file_extension": ".py",
   "mimetype": "text/x-python",
   "name": "python",
   "nbconvert_exporter": "python",
   "pygments_lexer": "ipython3",
   "version": "3.8.3-final"
  },
  "orig_nbformat": 2,
  "kernelspec": {
   "name": "python3",
   "display_name": "Python 3"
  }
 },
 "nbformat": 4,
 "nbformat_minor": 2,
 "cells": [
  {
   "cell_type": "code",
   "execution_count": null,
   "metadata": {
    "tags": []
   },
   "outputs": [],
   "source": [
    "from pymongo import MongoClient\n",
    "import requests as rq\n",
    "import datetime as dt\n",
    "import time\n",
    "\n",
    "cardiac = [\n",
    "    'http://nosql.hpeixoto.me/api/sensor/3001',\n",
    "    'http://nosql.hpeixoto.me/api/sensor/3002',\n",
    "    'http://nosql.hpeixoto.me/api/sensor/3003',\n",
    "    'http://nosql.hpeixoto.me/api/sensor/3004',\n",
    "    'http://nosql.hpeixoto.me/api/sensor/3005'\n",
    "]\n",
    "\n",
    "blood = [\n",
    "    'http://nosql.hpeixoto.me/api/sensor/4001',\n",
    "    'http://nosql.hpeixoto.me/api/sensor/4002',\n",
    "    'http://nosql.hpeixoto.me/api/sensor/4003',\n",
    "    'http://nosql.hpeixoto.me/api/sensor/4004',\n",
    "    'http://nosql.hpeixoto.me/api/sensor/4005'\n",
    "]\n",
    "\n",
    "url = \"mongodb://localhost:27017\"\n",
    "client = MongoClient(url)\n",
    "db = client.sensors\n",
    "\n",
    "# Only the first result matters\n",
    "def getLastTimestamp(col):\n",
    "    m = col.find({},{\"_id\":0, \"timestamp\": 1}).sort(\"_id\",-1).limit(1)\n",
    "    try: \n",
    "        return dt.datetime.strptime((m.next())['timestamp'], \"%Y-%m-%d %H:%M:%S\")\n",
    "    except:\n",
    "        return dt.datetime(1,1,1)\n",
    "\n",
    "# Only insert if the timestamp is more recent than the last on the db\n",
    "def maybeInsert(col,data,tsdb,tsjson):\n",
    "    if(tsdb >= tsjson):\n",
    "        return False\n",
    "    else:\n",
    "        col.insert_one(data)\n",
    "        return True\n",
    "\n",
    "# Insert into db = sensors, collection = sensorYYYY\n",
    "def parseJson(data,typ):\n",
    "    print(\">> Currently on sensor: type = {0}, ID = {1}\".format(typ, data['sensorid']))\n",
    "    id = str(data['sensorid'])\n",
    "    col = db[typ + id]\n",
    "    date1 = getLastTimestamp(col)\n",
    "    date2 = dt.datetime.strptime(data['timestamp'], \"%Y-%m-%d %H:%M:%S\")\n",
    "    result = maybeInsert(col,data,date1,date2) \n",
    "    print(str(date2) + ' > ' + str(date1) + ' ?', \"Yes, adding the sensor data to the DB.\\n\" if result else \"No, skipping the current sensor data.\\n\")\n",
    "\n",
    "while True:\n",
    "    print(\"New Round of GET Requests...\")\n",
    "    for sensor in cardiac:\n",
    "        data = rq.get(sensor).json()\n",
    "        parseJson(data, 'cardiac')\n",
    "\n",
    "    for sensor in blood:\n",
    "        data = rq.get(sensor).json()\n",
    "        parseJson(data, 'blood')\n",
    "    \n",
    "    time.sleep(5)\n"
   ]
  }
 ]
}