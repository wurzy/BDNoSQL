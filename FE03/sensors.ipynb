{
 "metadata": {
  "language_info": {
   "codemirror_mode": {
    "name": "ipython",
    "version": 3
   },
   "file_extension": ".py",
   "mimetype": "text/x-python",
   "name": "python",
   "nbconvert_exporter": "python",
   "pygments_lexer": "ipython3",
   "version": "3.8.3-final"
  },
  "orig_nbformat": 2,
  "kernelspec": {
   "name": "python3",
   "display_name": "Python 3"
  }
 },
 "nbformat": 4,
 "nbformat_minor": 2,
 "cells": [
  {
   "cell_type": "code",
   "execution_count": 51,
   "metadata": {
    "tags": []
   },
   "outputs": [
    {
     "output_type": "stream",
     "name": "stdout",
     "text": [
      ">> Currently on sensor: type = cardiac, ID = 3001\n",
      "2020-11-15 22:12:45 > 2020-11-15 22:12:38 ? Yes, adding the sensor data to the DB.\n",
      "\n",
      ">> Currently on sensor: type = cardiac, ID = 3002\n",
      "2020-11-15 22:12:45 > 2020-11-15 22:12:39 ? Yes, adding the sensor data to the DB.\n",
      "\n",
      ">> Currently on sensor: type = cardiac, ID = 3003\n",
      "2020-11-15 22:12:45 > 2020-11-15 22:12:39 ? Yes, adding the sensor data to the DB.\n",
      "\n",
      ">> Currently on sensor: type = cardiac, ID = 3004\n",
      "2020-11-15 22:12:45 > 2020-11-15 22:12:39 ? Yes, adding the sensor data to the DB.\n",
      "\n",
      ">> Currently on sensor: type = cardiac, ID = 3005\n",
      "2020-11-15 22:12:45 > 2020-11-15 22:12:39 ? Yes, adding the sensor data to the DB.\n",
      "\n",
      ">> Currently on sensor: type = blood, ID = 4001\n",
      "2020-11-15 22:12:47 > 2020-11-15 22:12:38 ? Yes, adding the sensor data to the DB.\n",
      "\n",
      ">> Currently on sensor: type = blood, ID = 4002\n",
      "2020-11-15 22:12:47 > 2020-11-15 22:12:38 ? Yes, adding the sensor data to the DB.\n",
      "\n",
      ">> Currently on sensor: type = blood, ID = 4003\n",
      "2020-11-15 22:12:52 > 2020-11-15 22:12:38 ? Yes, adding the sensor data to the DB.\n",
      "\n",
      ">> Currently on sensor: type = blood, ID = 4004\n",
      "2020-11-15 22:12:52 > 2020-11-15 22:12:38 ? Yes, adding the sensor data to the DB.\n",
      "\n",
      ">> Currently on sensor: type = blood, ID = 4005\n",
      "2020-11-15 22:12:52 > 2020-11-15 22:12:45 ? Yes, adding the sensor data to the DB.\n",
      "\n"
     ]
    }
   ],
   "source": [
    "from pymongo import MongoClient\n",
    "import requests as rq\n",
    "import datetime as dt\n",
    "\n",
    "cardiac = [\n",
    "    'http://nosql.hpeixoto.me/api/sensor/3001',\n",
    "    'http://nosql.hpeixoto.me/api/sensor/3002',\n",
    "    'http://nosql.hpeixoto.me/api/sensor/3003',\n",
    "    'http://nosql.hpeixoto.me/api/sensor/3004',\n",
    "    'http://nosql.hpeixoto.me/api/sensor/3005'\n",
    "]\n",
    "\n",
    "blood = [\n",
    "    'http://nosql.hpeixoto.me/api/sensor/4001',\n",
    "    'http://nosql.hpeixoto.me/api/sensor/4002',\n",
    "    'http://nosql.hpeixoto.me/api/sensor/4003',\n",
    "    'http://nosql.hpeixoto.me/api/sensor/4004',\n",
    "    'http://nosql.hpeixoto.me/api/sensor/4005'\n",
    "]\n",
    "\n",
    "url = \"mongodb://localhost:27017\"\n",
    "client = MongoClient(url)\n",
    "db = client.sensors\n",
    "\n",
    "# Only the first result matters\n",
    "def getLastTimestamp(col):\n",
    "    m = col.find({},{\"_id\":0, \"timestamp\": 1}).sort(\"_id\",-1).limit(1)\n",
    "    for ts in m:\n",
    "        return ts['timestamp']\n",
    "\n",
    "# Only insert if the timestamp is more recent than the last on the db\n",
    "def maybeInsert(col,data,tsdb,tsjson):\n",
    "    if(tsdb >= tsjson):\n",
    "        return False\n",
    "    else:\n",
    "        col.insert_one(data)\n",
    "        return True\n",
    "\n",
    "# Insert into db = sensors, collection = sensorYYYY\n",
    "def parseJson(data,type):\n",
    "    print(\">> Currently on sensor: type = {0}, ID = {1}\".format(type, data['sensorid']))\n",
    "    id = str(data['sensorid'])\n",
    "    col = db[type + id]\n",
    "    date = getLastTimestamp(col)\n",
    "    result = maybeInsert(col,data,date,data['timestamp']) \n",
    "    print(data['timestamp'] + ' > ' + date + ' ?', \"Yes, adding the sensor data to the DB.\\n\" if result else \"No, skipping the current sensor data.\\n\")\n",
    "\n",
    "for sensor in cardiac:\n",
    "    data = rq.get(sensor).json()\n",
    "    parseJson(data, 'cardiac')\n",
    "\n",
    "for sensor in blood:\n",
    "    data = rq.get(sensor).json()\n",
    "    parseJson(data, 'blood')\n"
   ]
  }
 ]
}